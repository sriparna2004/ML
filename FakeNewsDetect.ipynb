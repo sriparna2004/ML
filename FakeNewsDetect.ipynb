{
 "cells": [
  {
   "cell_type": "code",
   "execution_count": 1,
   "metadata": {},
   "outputs": [],
   "source": [
    "import numpy as np\n",
    "import pandas as pd\n",
    "import itertools\n",
    "from sklearn.model_selection import train_test_split\n",
    "from sklearn.feature_extraction.text import TfidfVectorizer\n",
    "from sklearn.linear_model import PassiveAggressiveClassifier\n",
    "from sklearn.metrics import accuracy_score, confusion_matrix"
   ]
  },
  {
   "cell_type": "code",
   "execution_count": 2,
   "metadata": {},
   "outputs": [],
   "source": [
    "df= pd.read_csv('news.csv')"
   ]
  },
  {
   "cell_type": "code",
   "execution_count": 3,
   "metadata": {},
   "outputs": [
    {
     "data": {
      "text/plain": [
       "(6335, 4)"
      ]
     },
     "execution_count": 3,
     "metadata": {},
     "output_type": "execute_result"
    }
   ],
   "source": [
    "df.shape"
   ]
  },
  {
   "cell_type": "code",
   "execution_count": 4,
   "metadata": {},
   "outputs": [
    {
     "data": {
      "text/html": [
       "<div>\n",
       "<style scoped>\n",
       "    .dataframe tbody tr th:only-of-type {\n",
       "        vertical-align: middle;\n",
       "    }\n",
       "\n",
       "    .dataframe tbody tr th {\n",
       "        vertical-align: top;\n",
       "    }\n",
       "\n",
       "    .dataframe thead th {\n",
       "        text-align: right;\n",
       "    }\n",
       "</style>\n",
       "<table border=\"1\" class=\"dataframe\">\n",
       "  <thead>\n",
       "    <tr style=\"text-align: right;\">\n",
       "      <th></th>\n",
       "      <th>Unnamed: 0</th>\n",
       "      <th>title</th>\n",
       "      <th>text</th>\n",
       "      <th>label</th>\n",
       "    </tr>\n",
       "  </thead>\n",
       "  <tbody>\n",
       "    <tr>\n",
       "      <th>0</th>\n",
       "      <td>8476</td>\n",
       "      <td>You Can Smell Hillary’s Fear</td>\n",
       "      <td>Daniel Greenfield, a Shillman Journalism Fello...</td>\n",
       "      <td>FAKE</td>\n",
       "    </tr>\n",
       "    <tr>\n",
       "      <th>1</th>\n",
       "      <td>10294</td>\n",
       "      <td>Watch The Exact Moment Paul Ryan Committed Pol...</td>\n",
       "      <td>Google Pinterest Digg Linkedin Reddit Stumbleu...</td>\n",
       "      <td>FAKE</td>\n",
       "    </tr>\n",
       "    <tr>\n",
       "      <th>2</th>\n",
       "      <td>3608</td>\n",
       "      <td>Kerry to go to Paris in gesture of sympathy</td>\n",
       "      <td>U.S. Secretary of State John F. Kerry said Mon...</td>\n",
       "      <td>REAL</td>\n",
       "    </tr>\n",
       "    <tr>\n",
       "      <th>3</th>\n",
       "      <td>10142</td>\n",
       "      <td>Bernie supporters on Twitter erupt in anger ag...</td>\n",
       "      <td>— Kaydee King (@KaydeeKing) November 9, 2016 T...</td>\n",
       "      <td>FAKE</td>\n",
       "    </tr>\n",
       "    <tr>\n",
       "      <th>4</th>\n",
       "      <td>875</td>\n",
       "      <td>The Battle of New York: Why This Primary Matters</td>\n",
       "      <td>It's primary day in New York and front-runners...</td>\n",
       "      <td>REAL</td>\n",
       "    </tr>\n",
       "  </tbody>\n",
       "</table>\n",
       "</div>"
      ],
      "text/plain": [
       "   Unnamed: 0                                              title  \\\n",
       "0        8476                       You Can Smell Hillary’s Fear   \n",
       "1       10294  Watch The Exact Moment Paul Ryan Committed Pol...   \n",
       "2        3608        Kerry to go to Paris in gesture of sympathy   \n",
       "3       10142  Bernie supporters on Twitter erupt in anger ag...   \n",
       "4         875   The Battle of New York: Why This Primary Matters   \n",
       "\n",
       "                                                text label  \n",
       "0  Daniel Greenfield, a Shillman Journalism Fello...  FAKE  \n",
       "1  Google Pinterest Digg Linkedin Reddit Stumbleu...  FAKE  \n",
       "2  U.S. Secretary of State John F. Kerry said Mon...  REAL  \n",
       "3  — Kaydee King (@KaydeeKing) November 9, 2016 T...  FAKE  \n",
       "4  It's primary day in New York and front-runners...  REAL  "
      ]
     },
     "execution_count": 4,
     "metadata": {},
     "output_type": "execute_result"
    }
   ],
   "source": [
    "df.head()"
   ]
  },
  {
   "cell_type": "code",
   "execution_count": 7,
   "metadata": {},
   "outputs": [],
   "source": [
    "labels=df.label"
   ]
  },
  {
   "cell_type": "code",
   "execution_count": 8,
   "metadata": {},
   "outputs": [
    {
     "data": {
      "text/plain": [
       "0    FAKE\n",
       "1    FAKE\n",
       "2    REAL\n",
       "3    FAKE\n",
       "4    REAL\n",
       "Name: label, dtype: object"
      ]
     },
     "execution_count": 8,
     "metadata": {},
     "output_type": "execute_result"
    }
   ],
   "source": [
    "labels.head()"
   ]
  },
  {
   "cell_type": "code",
   "execution_count": 11,
   "metadata": {},
   "outputs": [
    {
     "data": {
      "text/plain": [
       "0       Daniel Greenfield, a Shillman Journalism Fello...\n",
       "1       Google Pinterest Digg Linkedin Reddit Stumbleu...\n",
       "2       U.S. Secretary of State John F. Kerry said Mon...\n",
       "3       — Kaydee King (@KaydeeKing) November 9, 2016 T...\n",
       "4       It's primary day in New York and front-runners...\n",
       "5         \\nI’m not an immigrant, but my grandparents ...\n",
       "6       Share This Baylee Luciani (left), Screenshot o...\n",
       "7       A Czech stockbroker who saved more than 650 Je...\n",
       "8       Hillary Clinton and Donald Trump made some ina...\n",
       "9       Iranian negotiators reportedly have made a las...\n",
       "10      CEDAR RAPIDS, Iowa — “I had one of the most wo...\n",
       "11      Donald Trump’s organizational problems have go...\n",
       "12      Click Here To Learn More About Alexandra's Per...\n",
       "13      October 31, 2016 at 4:52 am \\nPretty factual e...\n",
       "14      Killing Obama administration rules, dismantlin...\n",
       "15      As more women move into high offices, they oft...\n",
       "16      Shocking! Michele Obama & Hillary Caught Glamo...\n",
       "17      0 \\nHillary Clinton has barely just lost the p...\n",
       "18      Washington (CNN) For months, the White House a...\n",
       "19      While paging through Pew's best data visualiza...\n",
       "20      With little fanfare this fall, the New York de...\n",
       "21      November 13, 2016 By 21wire Leave a Comment \\n...\n",
       "22      Hillary Clinton told a Staten Island crowd tod...\n",
       "23      Mitch McConnell has an unusual admonition for ...\n",
       "24      Mises.org November 1, 2016 Inferno is a great ...\n",
       "25      Washington (CNN) The faction of the GOP that i...\n",
       "26      Meanwhile, Democrat Bernie Sanders picked up m...\n",
       "27      After a week of nonstop criticism from Democra...\n",
       "28      If you want a glimpse into a presidential cand...\n",
       "29      Syrian War Report – October 31, 2016: Al-Nusra...\n",
       "                              ...                        \n",
       "6305    Print \\n[Ed. – Now teaching the gospel of raci...\n",
       "6306    Sound too “strange” to be true? We have proof!...\n",
       "6307    US abstains from UN vote calling for end to Cu...\n",
       "6308    Tuesday 1 November 2016 by Formelia Alberthine...\n",
       "6309    When Susan E. Rice took over as President Obam...\n",
       "6310    (CNN) ISIS has claimed responsibility for the ...\n",
       "6311    It was inevitable that liberals would end up b...\n",
       "6312    By Kalee Brown\\nWhile I was at university, man...\n",
       "6313    Email \\nDonald Trump is again riling up his vo...\n",
       "6314    BREAKING: Trump Jumps in FL, Takes 4 Point Lea...\n",
       "6315    Police in Charleston, S.C., say a man they sus...\n",
       "6316    Silver of FiveThirtyEight.com has laid out fou...\n",
       "6317    This post was originally published on this sit...\n",
       "6318    BREAKING : Hillary Campaign Manager Deletes hi...\n",
       "6319    Ted Cruz took first prize in the Iowa caucuses...\n",
       "6320    Posted on November 4, 2016 by Charles Hugh Smi...\n",
       "6321    Charlie Baker , Massachusetts (2015–present)[3...\n",
       "6322    vladimir putin , Valdai , sochi , RBTH Daily R...\n",
       "6323    ROME —  U.S. Democratic presidential candidate...\n",
       "6324    Most conservatives who oppose marriage equalit...\n",
       "6325    Written by Peter Van Buren   venerable New Yor...\n",
       "6326    DOJ COMPLAINT: Comey Under Fire Over Partisan ...\n",
       "6327    The freshman senator from Georgia quoted scrip...\n",
       "6328                                                     \n",
       "6329    Julian Assange has claimed the Hillary Clinton...\n",
       "6330    The State Department told the Republican Natio...\n",
       "6331    The ‘P’ in PBS Should Stand for ‘Plutocratic’ ...\n",
       "6332     Anti-Trump Protesters Are Tools of the Oligar...\n",
       "6333    ADDIS ABABA, Ethiopia —President Obama convene...\n",
       "6334    Jeb Bush Is Suddenly Attacking Trump. Here's W...\n",
       "Name: text, Length: 6335, dtype: object"
      ]
     },
     "execution_count": 11,
     "metadata": {},
     "output_type": "execute_result"
    }
   ],
   "source": [
    "df.text"
   ]
  },
  {
   "cell_type": "code",
   "execution_count": 12,
   "metadata": {},
   "outputs": [],
   "source": [
    "x_train,x_test,y_train,y_test=train_test_split(df['text'],labels,test_size=0.2,random_state=7)"
   ]
  },
  {
   "cell_type": "code",
   "execution_count": 21,
   "metadata": {},
   "outputs": [
    {
     "data": {
      "text/plain": [
       "6237    The head of a leading survivalist group has ma...\n",
       "3722    ‹ › Arnaldo Rodgers is a trained and educated ...\n",
       "5774    Patty Sanchez, 51, used to eat 13,000 calories...\n",
       "336     But Benjamin Netanyahu’s reelection was regard...\n",
       "3622    John Kasich was killing it with these Iowa vot...\n",
       "4024    Email \\nIt has become increasingly apparent th...\n",
       "1537    Tesla, ‘World’s Safest Car,’ Explodes Like a B...\n",
       "5200    For those of you salivating — or trembling — a...\n",
       "279     American Express disowns Pink Floyd singer Rog...\n",
       "4973    Osteoporosis (yes, magnesium is more important...\n",
       "1283    Duterte Calls US Admin ‘Monkeys’ for Halting A...\n",
       "4104    (CNN) Donald Trump dominated Super Tuesday, no...\n",
       "876     Donald Trump has just five days until the Repu...\n",
       "4769    Home / #Solutions / Colin Kaepernick Just Star...\n",
       "5080    Black Turnout Soft in Early Voting, Boding Ill...\n",
       "3601    Seven of the eight leading Republican presiden...\n",
       "4722    \\nOn Sunday evening, side-by-side images of Hi...\n",
       "3561    Next Prev Swipe left/right This dad’s tweets a...\n",
       "138     Given that Congress has become so utterly dysf...\n",
       "1949    Fragment of Old Tax Bill Meant to Undercut Mus...\n",
       "4675    Print \\nSen. Bernie Sanders laid out the ways ...\n",
       "504     By Djuan Wash / filmsforaction.org \\nOne canno...\n",
       "4526    Jeb Bush and Mitt Romney have much in common. ...\n",
       "4848    We Are Change \\n\\nWhile many Americans headed ...\n",
       "4741    NAIROBI, Kenya — President Obama spoke out Sun...\n",
       "3712    \\nFox News reported : \\nFive police officers a...\n",
       "2554    The US’ secret drone war has largely been shro...\n",
       "913     Donald Trump is looking for a veep with the po...\n",
       "2759    Farms that once generated wealth for entire co...\n",
       "3131    Email \\nIn what Democrats and the Left hoped w...\n",
       "                              ...                        \n",
       "3896    Since we were children, we have been bombarded...\n",
       "1349    House Republicans investigating the 2012 attac...\n",
       "3775    During the campaign, Trump had threatened to i...\n",
       "3116    BNI Store Nov 2 2016 “We are losing control of...\n",
       "3516    That in itself was a sign that the punch lande...\n",
       "2298    Most of the headlines from Sen. Elizabeth Warr...\n",
       "2871    Democratic presidential candidate Hillary Clin...\n",
       "5195    Speaker At Trump Rally Says He Hopes Hillary C...\n",
       "391     Archives Michael On Television If Hillary Clin...\n",
       "6015    With the general election campaign just hours ...\n",
       "1456    UPDATE: June 4 -- The health insurance enrollm...\n",
       "1092    The National Security Agency's bulk phone reco...\n",
       "6118    Abdullah Muhammad al-Muhaysini, a senior al Qa...\n",
       "3239    Home / News / Fox News Just Exposed Hillary’s ...\n",
       "5000    Levers of Power: Flushing the Vote Down the Me...\n",
       "2778    (CNN) Donald Trump is now the only Republican ...\n",
       "4462    License DMCA The American journalist, Edward B...\n",
       "4441    BREAKING – Investigative Journalist Found Dead...\n",
       "3656    Genius Kid Trolled White House Halloween Party...\n",
       "2583    The race for the Democratic presidential nomin...\n",
       "3257    Now we know why she didn't want those Wall Str...\n",
       "1372    A big new State Department assessment has iden...\n",
       "5735    President Barack Obama insisted Thursday that ...\n",
       "919                                                      \n",
       "4307    By Gordon Duff, Senior Editor on November 2, 2...\n",
       "5699                                                     \n",
       "2550    It’s not that Americans won’t elect wealthy pr...\n",
       "537     Anyone writing sentences like ‘nevertheless fu...\n",
       "1220    More Catholics are in Congress than ever befor...\n",
       "4271    It was hosted by CNN, and the presentation was...\n",
       "Name: text, Length: 5068, dtype: object"
      ]
     },
     "execution_count": 21,
     "metadata": {},
     "output_type": "execute_result"
    }
   ],
   "source": [
    "x_train"
   ]
  },
  {
   "cell_type": "code",
   "execution_count": 22,
   "metadata": {},
   "outputs": [],
   "source": [
    "from sklearn.feature_extraction.text import CountVectorizer\n",
    "count_vect = CountVectorizer()"
   ]
  },
  {
   "cell_type": "code",
   "execution_count": 23,
   "metadata": {},
   "outputs": [],
   "source": [
    "X_train_counts = count_vect.fit_transform(x_train)"
   ]
  },
  {
   "cell_type": "code",
   "execution_count": 24,
   "metadata": {},
   "outputs": [
    {
     "data": {
      "text/plain": [
       "(5068, 61958)"
      ]
     },
     "execution_count": 24,
     "metadata": {},
     "output_type": "execute_result"
    }
   ],
   "source": [
    "X_train_counts.shape"
   ]
  },
  {
   "cell_type": "code",
   "execution_count": 25,
   "metadata": {},
   "outputs": [
    {
     "data": {
      "text/plain": [
       "<5068x61958 sparse matrix of type '<class 'numpy.int64'>'\n",
       "\twith 1732546 stored elements in Compressed Sparse Row format>"
      ]
     },
     "execution_count": 25,
     "metadata": {},
     "output_type": "execute_result"
    }
   ],
   "source": [
    "X_train_counts"
   ]
  },
  {
   "cell_type": "code",
   "execution_count": 26,
   "metadata": {},
   "outputs": [
    {
     "data": {
      "text/plain": [
       "(5068,)"
      ]
     },
     "execution_count": 26,
     "metadata": {},
     "output_type": "execute_result"
    }
   ],
   "source": [
    "x_train.shape"
   ]
  },
  {
   "cell_type": "code",
   "execution_count": 28,
   "metadata": {},
   "outputs": [
    {
     "data": {
      "text/plain": [
       "(5068, 61958)"
      ]
     },
     "execution_count": 28,
     "metadata": {},
     "output_type": "execute_result"
    }
   ],
   "source": [
    "from sklearn.feature_extraction.text import TfidfTransformer\n",
    "tfidf_transformer = TfidfTransformer()\n",
    "X_train_tfidf = tfidf_transformer.fit_transform(X_train_counts)\n",
    "X_train_tfidf.shape"
   ]
  },
  {
   "cell_type": "code",
   "execution_count": 29,
   "metadata": {},
   "outputs": [
    {
     "data": {
      "text/plain": [
       "PassiveAggressiveClassifier(C=1.0, average=False, class_weight=None,\n",
       "                            early_stopping=False, fit_intercept=True,\n",
       "                            loss='hinge', max_iter=50, n_iter_no_change=5,\n",
       "                            n_jobs=None, random_state=None, shuffle=True,\n",
       "                            tol=0.001, validation_fraction=0.1, verbose=0,\n",
       "                            warm_start=False)"
      ]
     },
     "execution_count": 29,
     "metadata": {},
     "output_type": "execute_result"
    }
   ],
   "source": [
    "pac = PassiveAggressiveClassifier(max_iter=50)\n",
    "pac.fit(X_train_tfidf,y_train)"
   ]
  },
  {
   "cell_type": "code",
   "execution_count": 31,
   "metadata": {},
   "outputs": [],
   "source": [
    "X_new_counts = count_vect.transform(x_test)\n",
    "X_new_tfidf = tfidf_transformer.transform(X_new_counts)\n",
    "\n",
    "predicted = pac.predict(X_new_tfidf)"
   ]
  },
  {
   "cell_type": "code",
   "execution_count": 32,
   "metadata": {},
   "outputs": [
    {
     "name": "stdout",
     "output_type": "stream",
     "text": [
      "Accuracy: 92.74%\n"
     ]
    }
   ],
   "source": [
    "score=accuracy_score(y_test,predicted)\n",
    "print(f'Accuracy: {round(score*100,2)}%')"
   ]
  },
  {
   "cell_type": "code",
   "execution_count": null,
   "metadata": {},
   "outputs": [],
   "source": []
  }
 ],
 "metadata": {
  "kernelspec": {
   "display_name": "Python 3",
   "language": "python",
   "name": "python3"
  },
  "language_info": {
   "codemirror_mode": {
    "name": "ipython",
    "version": 3
   },
   "file_extension": ".py",
   "mimetype": "text/x-python",
   "name": "python",
   "nbconvert_exporter": "python",
   "pygments_lexer": "ipython3",
   "version": "3.7.3"
  }
 },
 "nbformat": 4,
 "nbformat_minor": 2
}
